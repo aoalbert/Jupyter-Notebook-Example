{
 "cells": [
  {
   "cell_type": "code",
   "execution_count": 1,
   "id": "a1430152-97dc-4abe-8382-35365dbb96b6",
   "metadata": {},
   "outputs": [],
   "source": [
    "a = 3\n",
    "b = 7\n",
    "c = a + b"
   ]
  },
  {
   "cell_type": "code",
   "execution_count": 2,
   "id": "ed561c46-6ead-4832-ae15-2ed1a95da25d",
   "metadata": {},
   "outputs": [
    {
     "name": "stdout",
     "output_type": "stream",
     "text": [
      "10\n"
     ]
    }
   ],
   "source": [
    "print(c)"
   ]
  },
  {
   "cell_type": "code",
   "execution_count": 10,
   "id": "fb1e13dc-f0a6-4feb-a544-137c3b7a4837",
   "metadata": {
    "scrolled": true
   },
   "outputs": [
    {
     "name": "stdout",
     "output_type": "stream",
     "text": [
      "Number is  0\n",
      "Number is  1\n",
      "Number is  2\n",
      "Number is  3\n",
      "Number is  4\n",
      "Number is  5\n",
      "Number is  6\n",
      "Number is  7\n",
      "Number is  8\n",
      "Number is  9\n",
      "Number is  10\n",
      "Number is  11\n",
      "Number is  12\n",
      "Number is  13\n",
      "Number is  14\n",
      "Number is  15\n",
      "Number is  16\n",
      "Number is  17\n",
      "Number is  18\n",
      "Number is  19\n",
      "Number is  20\n",
      "Number is  21\n",
      "Number is  22\n",
      "Number is  23\n",
      "Number is  24\n",
      "Number is  25\n",
      "Number is  26\n",
      "Number is  27\n",
      "Number is  28\n",
      "Number is  29\n",
      "Number is  30\n",
      "Number is  31\n",
      "Number is  32\n",
      "Number is  33\n",
      "Number is  34\n",
      "Number is  35\n",
      "Number is  36\n",
      "Number is  37\n",
      "Number is  38\n",
      "Number is  39\n",
      "Number is  40\n",
      "Number is  41\n",
      "Number is  42\n",
      "Number is  43\n",
      "Number is  44\n",
      "Number is  45\n",
      "Number is  46\n",
      "Number is  47\n",
      "Number is  48\n",
      "Number is  49\n",
      "Number is  50\n",
      "Number is  51\n",
      "Number is  52\n",
      "Number is  53\n",
      "Number is  54\n",
      "Number is  55\n",
      "Number is  56\n",
      "Number is  57\n",
      "Number is  58\n",
      "Number is  59\n",
      "Number is  60\n",
      "Number is  61\n",
      "Number is  62\n",
      "Number is  63\n",
      "Number is  64\n",
      "Number is  65\n",
      "Number is  66\n",
      "Number is  67\n",
      "Number is  68\n",
      "Number is  69\n",
      "Number is  70\n",
      "Number is  71\n",
      "Number is  72\n",
      "Number is  73\n",
      "Number is  74\n",
      "Number is  75\n",
      "Number is  76\n",
      "Number is  77\n",
      "Number is  78\n",
      "Number is  79\n",
      "Number is  80\n",
      "Number is  81\n",
      "Number is  82\n",
      "Number is  83\n",
      "Number is  84\n",
      "Number is  85\n",
      "Number is  86\n",
      "Number is  87\n",
      "Number is  88\n",
      "Number is  89\n",
      "Number is  90\n",
      "Number is  91\n",
      "Number is  92\n",
      "Number is  93\n",
      "Number is  94\n",
      "Number is  95\n",
      "Number is  96\n",
      "Number is  97\n",
      "Number is  98\n",
      "Number is  99\n"
     ]
    }
   ],
   "source": [
    "for i in range(100):\n",
    "    print(\"Number is \", i)"
   ]
  },
  {
   "cell_type": "code",
   "execution_count": 9,
   "id": "4f42ee62-65cf-4db9-bdeb-82b597fe270d",
   "metadata": {},
   "outputs": [
    {
     "name": "stdout",
     "output_type": "stream",
     "text": [
      "432\n"
     ]
    }
   ],
   "source": [
    "#comment here\n",
    "a = a * 12\n",
    "print(a)"
   ]
  },
  {
   "cell_type": "markdown",
   "id": "b9a57e2f",
   "metadata": {},
   "source": []
  },
  {
   "cell_type": "code",
   "execution_count": 5,
   "id": "1883a11e-6cdb-408d-bc0b-60858fd8f9cf",
   "metadata": {},
   "outputs": [],
   "source": [
    "import matplotlib.pyplot as plt"
   ]
  },
  {
   "cell_type": "code",
   "execution_count": 6,
   "id": "2b66fb8c-a973-41b4-9c44-3f10c34d8983",
   "metadata": {},
   "outputs": [],
   "source": [
    "x = [-2, -1, 0, 1, 5, 0, 4]\n",
    "y = [4, 1, 0, -1, 0, 1, 4]"
   ]
  },
  {
   "cell_type": "code",
   "execution_count": 8,
   "id": "4a93a080-b9be-4d03-9f09-feadbe9176b6",
   "metadata": {},
   "outputs": [
    {
     "data": {
      "text/plain": [
       "[<matplotlib.lines.Line2D at 0x10fe9a210>]"
      ]
     },
     "execution_count": 8,
     "metadata": {},
     "output_type": "execute_result"
    },
    {
     "data": {
      "image/png": "[encoded data removed]",
      "text/plain": [
       "<Figure size 640x480 with 1 Axes>"
      ]
     },
     "metadata": {},
     "output_type": "display_data"
    }
   ],
   "source": [
    "plt.plot(x, y)"
   ]
  },
  {
   "cell_type": "code",
   "execution_count": 13,
   "id": "0a8cdcae-833d-448c-9fb3-6b45795808d0",
   "metadata": {},
   "outputs": [
    {
     "name": "stdout",
     "output_type": "stream",
     "text": [
      "total 72\n",
      "drwxr-xr-x   5 stepansmbatyan  staff    160 Jun  6 19:31 \u001b[1m\u001b[36m.\u001b[m\u001b[m/\n",
      "drwxr-xr-x@ 12 stepansmbatyan  staff    384 Jun  6 19:19 \u001b[1m\u001b[36m..\u001b[m\u001b[m/\n",
      "drwxr-xr-x   3 stepansmbatyan  staff     96 Jun  6 19:21 \u001b[1m\u001b[36m.ipynb_checkpoints\u001b[m\u001b[m/\n",
      "-rw-r--r--   1 stepansmbatyan  staff  33538 Jun  6 19:31 TestNotebook.ipynb\n",
      "drwxr-xr-x   2 stepansmbatyan  staff     64 Jun  6 19:19 \u001b[1m\u001b[36mjupyter\u001b[m\u001b[m/\n"
     ]
    }
   ],
   "source": [
    "ls -la"
   ]
  },
  {
   "cell_type": "markdown",
   "id": "f469f02b-7978-478a-965e-43d52bcc74bd",
   "metadata": {},
   "source": [
    "# Header 1"
   ]
  },
  {
   "cell_type": "markdown",
   "id": "d1bae5ea-f126-4a69-b117-f234055bd5c8",
   "metadata": {},
   "source": [
    "## Header 2"
   ]
  },
  {
   "cell_type": "markdown",
   "id": "cfea551d-2e52-4ee8-9abb-d57cf588225c",
   "metadata": {},
   "source": [
    "### Header 3"
   ]
  },
  {
   "cell_type": "markdown",
   "id": "c39c3bbe-7c74-4620-a21b-6f2fc3dc96ed",
   "metadata": {},
   "source": [
    "* Item 1\n",
    "* Item 2\n",
    "* Item 3"
   ]
  },
  {
   "cell_type": "markdown",
   "id": "acd22332-5599-465c-8a86-1c49fdf19c38",
   "metadata": {},
   "source": [
    "```javascript\n",
    "console.log(\"Hello World\")\n",
    "```"
   ]
  },
  {
   "cell_type": "markdown",
   "id": "628ff3ec-f25c-44cd-acbe-d33e3173d74e",
   "metadata": {},
   "source": [
    "<img src=\"https://www.splashlearn.com/math-vocabulary/wp-content/uploads/2022/05/graphs-3-01.png\">"
   ]
  },
  {
   "cell_type": "markdown",
   "id": "d0343e37-d486-4fb8-925a-ca916c0cd4da",
   "metadata": {},
   "source": []
  },
  {
   "cell_type": "markdown",
   "id": "5e519f8a-f94b-461a-8ae2-bb4d94fbd13e",
   "metadata": {},
   "source": [
    "\\begin{align}\n",
    "\\dot{x} & = \\sigma(y-x) \\\\\n",
    "\\dot{y} & = \\rho x - y - xz \\\\\n",
    "\\dot{z} & = -\\beta z + xy\n",
    "\\end{align}\n",
    "\n"
   ]
  },
  {
   "cell_type": "markdown",
   "id": "1dbf5941-c842-40bc-8a5a-af76e29e329a",
   "metadata": {},
   "source": [
    "\\begin{equation*}\n",
    "\\left( \\sum_{k=1}^n a_k b_k \\right)^2 \\leq \\left( \\sum_{k=1}^n a_k^2 \\right) \\left( \\sum_{k=1}^n b_k^2 \\right)\n",
    "\\end{equation*}"
   ]
  },
  {
   "cell_type": "code",
   "execution_count": null,
   "id": "8f9e316c-42c9-488c-91cb-9507f3836551",
   "metadata": {},
   "outputs": [],
   "source": []
  }
 ],
 "metadata": {
  "kernelspec": {
   "display_name": "Python 3 (ipykernel)",
   "language": "python",
   "name": "python3"
  },
  "language_info": {
   "codemirror_mode": {
    "name": "ipython",
    "version": 3
   },
   "file_extension": ".py",
   "mimetype": "text/x-python",
   "name": "python",
   "nbconvert_exporter": "python",
   "pygments_lexer": "ipython3",
   "version": "3.11.7"
  }
 },
 "nbformat": 4,
 "nbformat_minor": 5
}
